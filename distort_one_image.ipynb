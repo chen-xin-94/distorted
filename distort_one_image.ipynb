{
 "cells": [
  {
   "cell_type": "code",
   "execution_count": 1,
   "metadata": {},
   "outputs": [],
   "source": [
    "import cv2\n",
    "import numpy as np\n",
    "from utils import (\n",
    "    load_camera_params_from_cfg_file,\n",
    "    ltwh2xyxy,\n",
    "    xyxy2ltwh,\n",
    "    get_image_path,\n",
    "    load_target,\n",
    "    undistort_mesh,\n",
    "    distort_image,\n",
    "    get_bounding_rect,\n",
    "    invert_map,\n",
    "    extract_person_coco,\n",
    ")"
   ]
  },
  {
   "cell_type": "code",
   "execution_count": 2,
   "metadata": {},
   "outputs": [],
   "source": [
    "camera_cfg = (\n",
    "    \"cfg/camera/2024_8_20_11_38_34_720x960_4149298_2024_08_02_A5PRT9_ip_72_test.cfg\"\n",
    ")\n",
    "\n",
    "cam_matrix, dist_vec = load_camera_params_from_cfg_file(camera_cfg)\n",
    "K = np.array(cam_matrix)\n",
    "D = np.array(dist_vec)"
   ]
  },
  {
   "cell_type": "code",
   "execution_count": 3,
   "metadata": {},
   "outputs": [
    {
     "data": {
      "text/plain": [
       "True"
      ]
     },
     "execution_count": 3,
     "metadata": {},
     "output_type": "execute_result"
    }
   ],
   "source": [
    "img_path = \"images/1.jpg\"\n",
    "\n",
    "# process image\n",
    "img = cv2.imread(img_path)\n",
    "\n",
    "u, v = undistort_mesh(img, K, D)\n",
    "distorted_img = distort_image(img, u, v)\n",
    "X, Y, W, H = get_bounding_rect(distorted_img)\n",
    "cropped_distorted_image = distorted_img[Y : Y + H, X : X + W]\n",
    "\n",
    "# save image\n",
    "new_img_path = img_path.replace(\".jpg\", \"_distorted.jpg\")\n",
    "cv2.imwrite(new_img_path, cropped_distorted_image)"
   ]
  }
 ],
 "metadata": {
  "kernelspec": {
   "display_name": "ocd",
   "language": "python",
   "name": "python3"
  },
  "language_info": {
   "codemirror_mode": {
    "name": "ipython",
    "version": 3
   },
   "file_extension": ".py",
   "mimetype": "text/x-python",
   "name": "python",
   "nbconvert_exporter": "python",
   "pygments_lexer": "ipython3",
   "version": "3.10.13"
  }
 },
 "nbformat": 4,
 "nbformat_minor": 2
}
